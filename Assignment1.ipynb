{
  "nbformat": 4,
  "nbformat_minor": 0,
  "metadata": {
    "colab": {
      "name": "Assignment1.ipynb",
      "provenance": [],
      "collapsed_sections": [],
      "authorship_tag": "ABX9TyOD1IDVDwDXvgVbhRAZDGB2",
      "include_colab_link": true
    },
    "kernelspec": {
      "name": "python3",
      "display_name": "Python 3"
    },
    "language_info": {
      "name": "python"
    }
  },
  "cells": [
    {
      "cell_type": "markdown",
      "metadata": {
        "id": "view-in-github",
        "colab_type": "text"
      },
      "source": [
        "<a href=\"https://colab.research.google.com/github/Sindhusridasari/AI/blob/main/Assignment1.ipynb\" target=\"_parent\"><img src=\"https://colab.research.google.com/assets/colab-badge.svg\" alt=\"Open In Colab\"/></a>"
      ]
    },
    {
      "cell_type": "code",
      "metadata": {
        "colab": {
          "base_uri": "https://localhost:8080/"
        },
        "id": "NFMaCCQg8Bh7",
        "outputId": "d03facae-786f-4ba6-d96e-d9434b96d1df"
      },
      "source": [
        "from scipy.optimize import linprog\n",
        "obj=[-50,-120]   #obj function matrix\n",
        "A_ineq=[[1,1],[7000,2000],[10,30]]        #inequality constrants coeff . matrix\n",
        "b_ineq=[110,700000,1200]          #inequality constraints const matrix\n",
        "\n",
        "boundery=[(0,float('inf')),(0,float('inf'))]  #limits of a b\n",
        "opt=linprog(c=obj,A_ub=A_ineq,b_ub=b_ineq,A_eq=None,b_eq=None,bounds=boundery,method=\"Simplex\")\n",
        "opt.x\n",
        "print('no of hectors for wheat:',round(opt.x[0]))\n",
        "print('no of hectors for barley:',round(opt.x[1]))\n",
        "print('optimal solution that is maximum profit :',round(opt.x[0])*50+round(opt.x[1])*120)"
      ],
      "execution_count": null,
      "outputs": [
        {
          "output_type": "stream",
          "text": [
            "no of hectors for wheat: 98\n",
            "no of hectors for barley: 7\n",
            "optimal solution that is maximum profit : 5740\n"
          ],
          "name": "stdout"
        }
      ]
    }
  ]
}